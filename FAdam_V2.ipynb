{
 "cells": [
  {
   "cell_type": "code",
   "execution_count": 1,
   "id": "c5a4bd77",
   "metadata": {},
   "outputs": [
    {
     "data": {
      "image/png": "[encoded data removed]",
      "text/plain": [
       "<Figure size 788.961x200.667 with 1 Axes>"
      ]
     },
     "execution_count": 1,
     "metadata": {},
     "output_type": "execute_result"
    }
   ],
   "source": [
    "from qiskit.circuit.library import TwoLocal\n",
    "\n",
    "# Ansatz\n",
    "ansatz = TwoLocal(\n",
    "    num_qubits=2,\n",
    "    rotation_blocks=[\"ry\", \"rz\"],\n",
    "    entanglement_blocks=\"cx\",\n",
    "    entanglement=\"linear\",\n",
    "    reps=2\n",
    ")\n",
    "\n",
    "ansatz.decompose().draw('mpl', style='clifford')"
   ]
  },
  {
   "cell_type": "code",
   "execution_count": 2,
   "id": "47415c26",
   "metadata": {},
   "outputs": [
    {
     "name": "stdout",
     "output_type": "stream",
     "text": [
      "[-7.  3.  5.  7.]\n",
      "-7.0\n"
     ]
    }
   ],
   "source": [
    "from qiskit.quantum_info import SparsePauliOp\n",
    "import numpy as np\n",
    "\n",
    "# hamiltonian(observable)\n",
    "observable = SparsePauliOp.from_list([(\"II\", 2), (\"XX\", -3), (\"YY\", 2), (\"ZZ\", -4)])\n",
    "\n",
    "\n",
    "eigenvalues, eigenvectors = np.linalg.eigh(observable.to_matrix())\n",
    "print(eigenvalues)\n",
    "print(min(eigenvalues))\n",
    "# energy expectation value\n",
    "# np.linalg.eigvals(observable.to_matrix()).real    "
   ]
  },
  {
   "cell_type": "code",
   "execution_count": 3,
   "id": "d3c1d103",
   "metadata": {},
   "outputs": [
    {
     "name": "stderr",
     "output_type": "stream",
     "text": [
      "d:\\miniconda3\\envs\\qiskit13\\lib\\site-packages\\requests\\__init__.py:86: RequestsDependencyWarning: Unable to find acceptable character detection dependency (chardet or charset_normalizer).\n",
      "  warnings.warn(\n"
     ]
    }
   ],
   "source": [
    "from qiskit_aer import AerSimulator\n",
    "from qiskit_ibm_runtime import EstimatorV2 as Estimator\n",
    "\n",
    "from vqe_v2 import VariationalQuantumEigensolverV2 as VQE\n",
    "from fadam_optimizer import FAdam\n",
    "from finite_estimator_gradient_v2 import FiniteDiffEstimatorGradientV2\n",
    "# simulator\n",
    "backend = AerSimulator()\n",
    "\n",
    "# 4. FAdamOptimizer\n",
    "fadam_optimizer = FAdam(lr=0.01, betas=(0.9, 0.999), eps=1e-8, maxiter=200)\n",
    "\n",
    "estimator = Estimator(mode=backend)\n",
    "gradient = FiniteDiffEstimatorGradientV2(estimator, epsilon=0.01)"
   ]
  },
  {
   "cell_type": "code",
   "execution_count": 4,
   "id": "c9e38631",
   "metadata": {},
   "outputs": [],
   "source": [
    "from qiskit.transpiler.preset_passmanagers import generate_preset_pass_manager\n",
    "\n",
    "pm = generate_preset_pass_manager(backend=backend, optimization_level=3)\n",
    "isa_ansatz = pm.run(ansatz)\n",
    "isa_observable = observable.apply_layout(layout = isa_ansatz.layout)"
   ]
  },
  {
   "cell_type": "code",
   "execution_count": 6,
   "id": "30847478",
   "metadata": {},
   "outputs": [
    {
     "name": "stdout",
     "output_type": "stream",
     "text": [
      "VQE 최저 에너지 (FAdam): -6.7626953125\n",
      "최적 매개변수 (FAdam): {ParameterVectorElement(θ[0]): np.float32(-0.076478206), ParameterVectorElement(θ[1]): np.float32(0.0077056433), ParameterVectorElement(θ[2]): np.float32(0.20063852), ParameterVectorElement(θ[3]): np.float32(0.23816808), ParameterVectorElement(θ[4]): np.float32(1.2629455), ParameterVectorElement(θ[5]): np.float32(0.00022753439), ParameterVectorElement(θ[6]): np.float32(-0.054955583), ParameterVectorElement(θ[7]): np.float32(-0.1650095), ParameterVectorElement(θ[8]): np.float32(0.015573704), ParameterVectorElement(θ[9]): np.float32(-0.06008977), ParameterVectorElement(θ[10]): np.float32(0.07098418), ParameterVectorElement(θ[11]): np.float32(-0.00827905)}\n"
     ]
    }
   ],
   "source": [
    "# 5. VQE with FAdamOptimizer\n",
    "vqe = VQE(\n",
    "    estimator=estimator,\n",
    "    ansatz=isa_ansatz,\n",
    "    optimizer=fadam_optimizer, # FAdamOptimizer\n",
    "    initial_point=np.zeros(ansatz.num_parameters),\n",
    "    gradient=gradient,  # \n",
    "    #callback=\n",
    ")\n",
    "\n",
    "# VQE 실행\n",
    "result = vqe.compute_minimum_eigenvalue(operator=isa_observable)\n",
    "print(f\"VQE mimimum energy (FAdam): {result.eigenvalue.real}\")\n",
    "print(f\"optimized parameters (FAdam): {result.optimal_parameters}\")"
   ]
  }
 ],
 "metadata": {
  "kernelspec": {
   "display_name": "qiskit13",
   "language": "python",
   "name": "python3"
  },
  "language_info": {
   "codemirror_mode": {
    "name": "ipython",
    "version": 3
   },
   "file_extension": ".py",
   "mimetype": "text/x-python",
   "name": "python",
   "nbconvert_exporter": "python",
   "pygments_lexer": "ipython3",
   "version": "3.10.18"
  }
 },
 "nbformat": 4,
 "nbformat_minor": 5
}
